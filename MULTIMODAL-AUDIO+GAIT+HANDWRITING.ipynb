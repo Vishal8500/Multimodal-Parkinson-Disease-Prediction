{
  "nbformat": 4,
  "nbformat_minor": 0,
  "metadata": {
    "colab": {
      "provenance": []
    },
    "kernelspec": {
      "name": "python3",
      "display_name": "Python 3"
    },
    "language_info": {
      "name": "python"
    }
  },
  "cells": [
    {
      "cell_type": "code",
      "execution_count": 1,
      "metadata": {
        "colab": {
          "base_uri": "https://localhost:8080/"
        },
        "id": "0Cu17MpokjVG",
        "outputId": "4c290b32-2154-4a55-ab34-2ab1980f86e8"
      },
      "outputs": [
        {
          "output_type": "stream",
          "name": "stdout",
          "text": [
            "Gait features shape: (2485, 100)\n",
            "Audio features shape: (81, 128)\n",
            "Handwriting features shape: (72, 2048)\n",
            "Audio labels shape: (81,)\n",
            "Handwriting labels shape: (72,)\n"
          ]
        }
      ],
      "source": [
        "import numpy as np\n",
        "\n",
        "# Load feature vectors\n",
        "gait_features = np.load('/content/drive/MyDrive/gait_feature_vectors_rf.npy')\n",
        "audio_features = np.load('/content/drive/MyDrive/audio_features.npy')\n",
        "handwriting_features = np.load('/content/drive/MyDrive/Handwrting features.npy')\n",
        "\n",
        "# Load labels\n",
        "audio_labels = np.load('/content/drive/MyDrive/audio_labels.npy')\n",
        "handwriting_labels = np.load('/content/drive/MyDrive/Handwriting labels.npy')\n",
        "\n",
        "# Sanity check on shapes\n",
        "print(\"Gait features shape:\", gait_features.shape)\n",
        "print(\"Audio features shape:\", audio_features.shape)\n",
        "print(\"Handwriting features shape:\", handwriting_features.shape)\n",
        "print(\"Audio labels shape:\", audio_labels.shape)\n",
        "print(\"Handwriting labels shape:\", handwriting_labels.shape)\n"
      ]
    },
    {
      "cell_type": "code",
      "source": [
        "import numpy as np\n",
        "from sklearn.model_selection import train_test_split\n",
        "from sklearn.metrics import classification_report, confusion_matrix\n",
        "from sklearn.ensemble import RandomForestClassifier\n",
        "import matplotlib.pyplot as plt\n",
        "import seaborn as sns\n",
        "\n",
        "# Load feature vectors\n",
        "audio_features = np.load('/content/drive/MyDrive/audio_features.npy')[:72]\n",
        "handwriting_features = np.load('/content/drive/MyDrive/Handwrting features.npy')\n",
        "gait_features = np.load('/content/drive/MyDrive/gait_feature_vectors_rf.npy')\n",
        "\n",
        "# Downsample gait to 72 samples (uniform sampling)\n",
        "indices = np.linspace(0, gait_features.shape[0]-1, 72).astype(int)\n",
        "gait_downsampled = gait_features[indices]\n",
        "\n",
        "# Normalize gait features (optional but often helpful)\n",
        "from sklearn.preprocessing import StandardScaler\n",
        "scaler = StandardScaler()\n",
        "gait_downsampled = scaler.fit_transform(gait_downsampled)\n",
        "\n",
        "# Concatenate all features\n",
        "fused_features = np.concatenate((audio_features, handwriting_features, gait_downsampled), axis=1)\n",
        "print(\"Final fused feature shape:\", fused_features.shape)\n",
        "\n",
        "# Load audio labels (first 72 samples)\n",
        "labels = np.load('/content/drive/MyDrive/audio_labels.npy')[:72]\n",
        "\n",
        "# Split data\n",
        "X_train, X_test, y_train, y_test = train_test_split(fused_features, labels, test_size=0.2, random_state=42)\n",
        "\n",
        "# Train classifier\n",
        "clf = RandomForestClassifier(n_estimators=100, random_state=42)\n",
        "clf.fit(X_train, y_train)\n",
        "\n",
        "# Evaluate\n",
        "y_pred = clf.predict(X_test)\n",
        "print(\"Classification Report:\\n\", classification_report(y_test, y_pred))\n",
        "\n",
        "# Confusion matrix\n",
        "cm = confusion_matrix(y_test, y_pred)\n",
        "sns.heatmap(cm, annot=True, fmt='d', cmap='Blues')\n",
        "plt.title('Confusion Matrix')\n",
        "plt.xlabel('Predicted')\n",
        "plt.ylabel('Actual')\n",
        "plt.show()\n"
      ],
      "metadata": {
        "colab": {
          "base_uri": "https://localhost:8080/",
          "height": 673
        },
        "id": "r4cocoE5pkOn",
        "outputId": "b85d9f14-a118-47e8-de04-8b70e2b644df"
      },
      "execution_count": 2,
      "outputs": [
        {
          "output_type": "stream",
          "name": "stdout",
          "text": [
            "Final fused feature shape: (72, 2276)\n",
            "Classification Report:\n",
            "               precision    recall  f1-score   support\n",
            "\n",
            "           0       0.89      0.80      0.84        10\n",
            "           1       0.67      0.80      0.73         5\n",
            "\n",
            "    accuracy                           0.80        15\n",
            "   macro avg       0.78      0.80      0.78        15\n",
            "weighted avg       0.81      0.80      0.80        15\n",
            "\n"
          ]
        },
        {
          "output_type": "display_data",
          "data": {
            "text/plain": [
              "<Figure size 640x480 with 2 Axes>"
            ],
            "image/png": "[encoded data removed]"
          },
          "metadata": {}
        }
      ]
    },
    {
      "cell_type": "code",
      "source": [
        "from sklearn.neural_network import MLPClassifier\n",
        "from xgboost import XGBClassifier\n",
        "from sklearn.metrics import accuracy_score\n",
        "\n",
        "# ----- MLP Classifier -----\n",
        "mlp = MLPClassifier(hidden_layer_sizes=(256, 128), activation='relu', max_iter=300, random_state=42)\n",
        "mlp.fit(X_train, y_train)\n",
        "mlp_preds = mlp.predict(X_test)\n",
        "print(\"\\n🔹 MLP Classifier Report:\\n\", classification_report(y_test, mlp_preds))\n",
        "\n",
        "# ----- XGBoost Classifier -----\n",
        "xgb = XGBClassifier(n_estimators=100, use_label_encoder=False, eval_metric='mlogloss', random_state=42)\n",
        "xgb.fit(X_train, y_train)\n",
        "xgb_preds = xgb.predict(X_test)\n",
        "print(\"\\n🔹 XGBoost Classifier Report:\\n\", classification_report(y_test, xgb_preds))\n",
        "\n",
        "# Optional: Compare accuracy\n",
        "print(\"Accuracy Scores:\")\n",
        "print(f\"  Random Forest: {accuracy_score(y_test, y_pred):.2f}\")\n",
        "print(f\"  MLP:           {accuracy_score(y_test, mlp_preds):.2f}\")\n",
        "print(f\"  XGBoost:       {accuracy_score(y_test, xgb_preds):.2f}\")\n"
      ],
      "metadata": {
        "colab": {
          "base_uri": "https://localhost:8080/"
        },
        "id": "sqPckpF2qGN4",
        "outputId": "de754f7e-7b95-406b-c1ef-3c5e7665046b"
      },
      "execution_count": 3,
      "outputs": [
        {
          "output_type": "stream",
          "name": "stdout",
          "text": [
            "\n",
            "🔹 MLP Classifier Report:\n",
            "               precision    recall  f1-score   support\n",
            "\n",
            "           0       1.00      0.70      0.82        10\n",
            "           1       0.62      1.00      0.77         5\n",
            "\n",
            "    accuracy                           0.80        15\n",
            "   macro avg       0.81      0.85      0.80        15\n",
            "weighted avg       0.88      0.80      0.81        15\n",
            "\n"
          ]
        },
        {
          "output_type": "stream",
          "name": "stderr",
          "text": [
            "/usr/local/lib/python3.11/dist-packages/xgboost/core.py:158: UserWarning: [13:34:33] WARNING: /workspace/src/learner.cc:740: \n",
            "Parameters: { \"use_label_encoder\" } are not used.\n",
            "\n",
            "  warnings.warn(smsg, UserWarning)\n"
          ]
        },
        {
          "output_type": "stream",
          "name": "stdout",
          "text": [
            "\n",
            "🔹 XGBoost Classifier Report:\n",
            "               precision    recall  f1-score   support\n",
            "\n",
            "           0       1.00      0.60      0.75        10\n",
            "           1       0.56      1.00      0.71         5\n",
            "\n",
            "    accuracy                           0.73        15\n",
            "   macro avg       0.78      0.80      0.73        15\n",
            "weighted avg       0.85      0.73      0.74        15\n",
            "\n",
            "Accuracy Scores:\n",
            "  Random Forest: 0.80\n",
            "  MLP:           0.80\n",
            "  XGBoost:       0.73\n"
          ]
        }
      ]
    },
    {
      "cell_type": "markdown",
      "source": [
        "## INPUT CHECK:"
      ],
      "metadata": {
        "id": "tV_JyfKluhSy"
      }
    },
    {
      "cell_type": "code",
      "source": [
        "import numpy as np\n",
        "import librosa\n",
        "import cv2\n",
        "from sklearn.preprocessing import StandardScaler\n",
        "from tensorflow.keras.applications import ResNet50\n",
        "from tensorflow.keras.applications.resnet50 import preprocess_input\n",
        "from tensorflow.keras.models import Model\n",
        "from xgboost import XGBClassifier\n",
        "import joblib\n",
        "import os"
      ],
      "metadata": {
        "id": "EhL_jWPpulQI"
      },
      "execution_count": 4,
      "outputs": []
    },
    {
      "cell_type": "code",
      "source": [
        "import numpy as np\n",
        "import librosa\n",
        "import cv2\n",
        "from tensorflow.keras.applications import ResNet50\n",
        "from tensorflow.keras.applications.resnet50 import preprocess_input\n",
        "from tensorflow.keras.applications.resnet50 import ResNet50, preprocess_input\n",
        "from tensorflow.keras.applications.vgg16 import VGG16\n",
        "from tensorflow.keras.preprocessing.image import load_img, img_to_array\n",
        "from tensorflow.keras.models import Model\n",
        "import joblib  # To load scaler\n",
        "from xgboost import XGBClassifier  # Or use MLPClassifier or RandomForestClassifier\n",
        "import pickle  # If your model was saved using pickle\n",
        "\n",
        "# --- 1. Extract audio features ---\n",
        "def extract_audio_features(file_path):\n",
        "    y, sr = librosa.load(file_path, sr=22050)\n",
        "    mel_spec = librosa.feature.melspectrogram(y=y, sr=sr, n_mels=128, fmax=8000)\n",
        "    mel_db = librosa.power_to_db(mel_spec, ref=np.max)\n",
        "    mel_resized = cv2.resize(mel_db, (224, 224), interpolation=cv2.INTER_CUBIC)\n",
        "    mel_rgb = np.stack([mel_resized] * 3, axis=-1)\n",
        "    mel_rgb = np.expand_dims(mel_rgb, axis=0)\n",
        "    mel_rgb = preprocess_input(mel_rgb.astype(np.float32))\n",
        "    cnn = ResNet50(weights='imagenet', include_top=False, pooling='avg')\n",
        "    features = cnn.predict(mel_rgb)\n",
        "    return features  # shape: (1, 2048)\n",
        "\n",
        "# --- 2. Extract handwriting image features ---\n",
        "def extract_image_features(img_path):\n",
        "    from tensorflow.keras.applications import ResNet50\n",
        "    from tensorflow.keras.applications.resnet50 import preprocess_input\n",
        "\n",
        "    model = ResNet50(weights='imagenet', include_top=False, pooling='avg', input_shape=(224, 224, 3))\n",
        "\n",
        "    img = load_img(img_path, target_size=(224, 224))\n",
        "    img_array = img_to_array(img)\n",
        "    img_array = preprocess_input(img_array)\n",
        "    img_array = np.expand_dims(img_array, axis=0)\n",
        "\n",
        "    features = model.predict(img_array)  # shape: (1, 2048)\n",
        "\n",
        "    return features[:, :128]  # Only keep the first 128 dims\n",
        "\n",
        "\n",
        "# --- 3. Process gait from file ---\n",
        "def process_gait_record_from_file(file_path, scaler):\n",
        "    with open(file_path, 'r') as f:\n",
        "        first_line = f.readline().strip()\n",
        "    values = first_line.split(',')[2:]  # Skip index and time\n",
        "    values = [float(x.strip()) for x in values if x.strip()]\n",
        "    values = values[:100]\n",
        "    if len(values) < 100:\n",
        "        values += [0.0] * (100 - len(values))\n",
        "    gait_array = np.array(values).reshape(1, -1)\n",
        "    gait_scaled = scaler.transform(gait_array)\n",
        "    return gait_scaled\n",
        "\n",
        "# --- 4. Predict with all models ---\n",
        "def predict_multimodal(audio_path, image_path, gait_path, scaler, clf, mlp, xgb):\n",
        "    audio_feat = extract_audio_features(audio_path)\n",
        "    image_feat = extract_image_features(image_path)\n",
        "    gait_feat = process_gait_record_from_file(gait_path, scaler)\n",
        "\n",
        "    fused = np.concatenate((audio_feat, image_feat, gait_feat), axis=1)\n",
        "\n",
        "    rf_pred = clf.predict(fused)[0]\n",
        "    mlp_pred = mlp.predict(fused)[0]\n",
        "    xgb_pred = xgb.predict(fused)[0]\n",
        "\n",
        "    print(\"🔹 Random Forest Prediction:\", rf_pred)\n",
        "    print(\"🔹 MLP Prediction:          \", mlp_pred)\n",
        "    print(\"🔹 XGBoost Prediction:      \", xgb_pred)\n",
        "\n",
        "    return rf_pred, mlp_pred, xgb_pred\n",
        "# ======================\n",
        "# 🔽 Example Usage Below\n",
        "# ======================\n",
        "\n",
        "# Step 1: Paths to new input files\n",
        "audio_path = '/content/drive/MyDrive/parkinson voice/HC_AH/AH_064F_7AB034C9-72E4-438B-A9B3-AD7FDA1596C5.wav'\n",
        "image_path = '/content/V01HE01.png'\n",
        "gait_path = '/content/drive/MyDrive/Filtered Data/001/task_1.txt'\n",
        "\n",
        "# Step 2: Load scaler and model (must be same as used in training)\n",
        "# scaler = joblib.load('/content/drive/MyDrive/gait_scaler.pkl')\n",
        "\n",
        "# # Option 1: Load XGBoost model\n",
        "# model = joblib.load('/content/drive/MyDrive/xgb_model.pkl')\n",
        "\n",
        "# Option 2: Load RandomForest or MLPClassifier if needed\n",
        "# with open('/content/drive/MyDrive/rf_model.pkl', 'rb') as f:\n",
        "#     model = pickle.load(f)\n",
        "\n",
        "# Step 3: Predict\n",
        "\n",
        "# Predict using already trained in-memory models and scaler\n",
        "predict_multimodal(audio_path, image_path, gait_path, scaler, clf, mlp, xgb)\n",
        "\n",
        "\n",
        "\n",
        "\n",
        "\n"
      ],
      "metadata": {
        "colab": {
          "base_uri": "https://localhost:8080/"
        },
        "id": "HCfTIgi3ySm4",
        "outputId": "1df636b8-25fe-4398-953a-e441ef1bd72d"
      },
      "execution_count": 16,
      "outputs": [
        {
          "output_type": "stream",
          "name": "stdout",
          "text": [
            "\u001b[1m1/1\u001b[0m \u001b[32m━━━━━━━━━━━━━━━━━━━━\u001b[0m\u001b[37m\u001b[0m \u001b[1m4s\u001b[0m 4s/step\n",
            "\u001b[1m1/1\u001b[0m \u001b[32m━━━━━━━━━━━━━━━━━━━━\u001b[0m\u001b[37m\u001b[0m \u001b[1m2s\u001b[0m 2s/step\n",
            "🔹 Random Forest Prediction: 0\n",
            "🔹 MLP Prediction:           0\n",
            "🔹 XGBoost Prediction:       1\n"
          ]
        },
        {
          "output_type": "execute_result",
          "data": {
            "text/plain": [
              "(np.int64(0), np.int64(0), np.int64(1))"
            ]
          },
          "metadata": {},
          "execution_count": 16
        }
      ]
    },
    {
      "cell_type": "code",
      "source": [
        "import numpy as np\n",
        "import pandas as pd\n",
        "from sklearn.preprocessing import LabelEncoder\n",
        "\n",
        "def display_prediction_result(model_name, pred, prob):\n",
        "    verdict = \"🧠 Parkinson's Detected\" if pred == 1 else \"✅ No Parkinson's\"\n",
        "    confidence = f\"{np.max(prob) * 100:.2f}%\"\n",
        "    print(f\"🔍 {model_name} Prediction: {verdict} (Confidence: {confidence})\")\n",
        "\n",
        "def predict_multimodal_with_verdict(audio_path, image_path, gait_path, scaler, rf_model, mlp_model, xgb_model):\n",
        "    # --- Extract Features ---\n",
        "    audio_feat = extract_audio_features(audio_path)\n",
        "    image_feat = extract_image_features(image_path)  # Already truncated to 128 dims\n",
        "    gait_feat = process_gait_record_from_file(gait_path, scaler)\n",
        "\n",
        "    # --- Fuse All Features ---\n",
        "    fused = np.concatenate((audio_feat, image_feat, gait_feat), axis=1)\n",
        "\n",
        "    # --- Predict with each model ---\n",
        "    rf_prob = rf_model.predict_proba(fused)[0]\n",
        "    mlp_prob = mlp_model.predict_proba(fused)[0]\n",
        "    xgb_prob = xgb_model.predict_proba(fused)[0]\n",
        "\n",
        "    rf_pred = np.argmax(rf_prob)\n",
        "    mlp_pred = np.argmax(mlp_prob)\n",
        "    xgb_pred = np.argmax(xgb_prob)\n",
        "\n",
        "    # --- Display Results ---\n",
        "    print(\"\\n📊 Individual Model Predictions:\")\n",
        "    display_prediction_result(\"Random Forest\", rf_pred, rf_prob)\n",
        "    display_prediction_result(\"MLP Neural Net\", mlp_pred, mlp_prob)\n",
        "    display_prediction_result(\"XGBoost\", xgb_pred, xgb_prob)\n",
        "\n",
        "    # --- Final Verdict (weighted majority vote based on probabilities) ---\n",
        "    combined_probs = (rf_prob + mlp_prob + xgb_prob) / 3\n",
        "    final_pred = np.argmax(combined_probs)\n",
        "    final_confidence = combined_probs[final_pred] * 100\n",
        "\n",
        "    label_map = {0: \"✅ No Parkinson's\", 1: \"🧠 Parkinson's Detected\"}\n",
        "    print(\"\\n🧾 Final Verdict (Consensus):\")\n",
        "    print(f\"➡️ {label_map[final_pred]} (Consensus Confidence: {final_confidence:.2f}%)\")\n",
        "\n",
        "audio_path = '/content/drive/MyDrive/parkinson voice/HC_AH/AH_064F_7AB034C9-72E4-438B-A9B3-AD7FDA1596C5.wav'\n",
        "image_path = '/content/V01HE01.png'\n",
        "gait_path = '/content/drive/MyDrive/Filtered Data/001/task_1.txt'\n",
        "\n",
        "# Step 2: Load scaler and model (must be same as used in training)\n",
        "# scaler = joblib.load('/content/drive/MyDrive/gait_scaler.pkl')\n",
        "\n",
        "# # Option 1: Load XGBoost model\n",
        "# model = joblib.load('/content/drive/MyDrive/xgb_model.pkl')\n",
        "\n",
        "# Option 2: Load RandomForest or MLPClassifier if needed\n",
        "# with open('/content/drive/MyDrive/rf_model.pkl', 'rb') as f:\n",
        "#     model = pickle.load(f)\n",
        "\n",
        "# Step 3: Predict\n",
        "\n",
        "# Predict using already trained in-memory models and scaler\n",
        "predict_multimodal_with_verdict(audio_path, image_path, gait_path, scaler, clf, mlp, xgb)\n",
        "\n",
        "\n"
      ],
      "metadata": {
        "colab": {
          "base_uri": "https://localhost:8080/"
        },
        "id": "_Tz7MfXT2qjo",
        "outputId": "668ed68d-0031-4f29-e105-322c11957a30"
      },
      "execution_count": 19,
      "outputs": [
        {
          "output_type": "stream",
          "name": "stdout",
          "text": [
            "\u001b[1m1/1\u001b[0m \u001b[32m━━━━━━━━━━━━━━━━━━━━\u001b[0m\u001b[37m\u001b[0m \u001b[1m5s\u001b[0m 5s/step\n",
            "\u001b[1m1/1\u001b[0m \u001b[32m━━━━━━━━━━━━━━━━━━━━\u001b[0m\u001b[37m\u001b[0m \u001b[1m2s\u001b[0m 2s/step\n",
            "\n",
            "📊 Individual Model Predictions:\n",
            "🔍 Random Forest Prediction: ✅ No Parkinson's (Confidence: 51.00%)\n",
            "🔍 MLP Neural Net Prediction: ✅ No Parkinson's (Confidence: 66.16%)\n",
            "🔍 XGBoost Prediction: 🧠 Parkinson's Detected (Confidence: 67.86%)\n",
            "\n",
            "🧾 Final Verdict (Consensus):\n",
            "➡️ 🧠 Parkinson's Detected (Consensus Confidence: 50.23%)\n"
          ]
        }
      ]
    },
    {
      "cell_type": "markdown",
      "source": [
        "weighted voting approach based on the probability/confidence scores predicted by each model.Since avg_prob_yes = 0.5023 is slightly higher than avg_prob_no = 0.4977, the final prediction becomes:\n",
        "\n",
        "🧾 Final Verdict: Parkinson's Detected\n",
        "Consensus Confidence = 50.23%\n",
        "\n"
      ],
      "metadata": {
        "id": "5Kpmsfga3zdt"
      }
    },
    {
      "cell_type": "code",
      "source": [],
      "metadata": {
        "id": "QutjEwZE26Zq"
      },
      "execution_count": null,
      "outputs": []
    }
  ]
}