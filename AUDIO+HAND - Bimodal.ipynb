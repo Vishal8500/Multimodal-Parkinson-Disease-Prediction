{
  "cells": [
    {
      "cell_type": "code",
      "execution_count": 3,
      "metadata": {
        "colab": {
          "base_uri": "https://localhost:8080/"
        },
        "id": "vWiNOUeFGc-3",
        "outputId": "555f2e55-79f8-464f-c67a-90987c71c8d0"
      },
      "outputs": [
        {
          "name": "stdout",
          "output_type": "stream",
          "text": [
            "✅ Model Accuracy: 0.80\n",
            "              precision    recall  f1-score   support\n",
            "\n",
            "           0       0.89      0.80      0.84        10\n",
            "           1       0.67      0.80      0.73         5\n",
            "\n",
            "    accuracy                           0.80        15\n",
            "   macro avg       0.78      0.80      0.78        15\n",
            "weighted avg       0.81      0.80      0.80        15\n",
            "\n"
          ]
        }
      ],
      "source": [
        "import numpy as np\n",
        "from sklearn.preprocessing import StandardScaler\n",
        "from sklearn.ensemble import RandomForestClassifier\n",
        "from sklearn.model_selection import train_test_split\n",
        "from sklearn.metrics import accuracy_score, classification_report\n",
        "\n",
        "# Load your features\n",
        "speech_features = np.load(\"/content/drive/MyDrive/FEATURES OF PARKINSON/audio_features.npy\")  # Shape: (samples, speech_features_dim)\n",
        "handwriting_features = np.load(\"/content/drive/MyDrive/FEATURES OF PARKINSON/handwriting_features.npy\")  # Shape: (samples, handwriting_features_dim)\n",
        "\n",
        "# Load your labels (assuming you will use one set of labels, e.g., speech_labels)\n",
        "speech_labels = np.load(\"/content/drive/MyDrive/FEATURES OF PARKINSON/audio_labels.npy\")  # Shape: (samples,)\n",
        "\n",
        "# 1️⃣ **Ensure Same Number of Samples** (optional step)\n",
        "min_samples = min(speech_features.shape[0], handwriting_features.shape[0], speech_labels.shape[0])\n",
        "speech_features = speech_features[:min_samples]\n",
        "handwriting_features = handwriting_features[:min_samples]\n",
        "speech_labels = speech_labels[:min_samples]\n",
        "\n",
        "# 2️⃣ **Normalize Features**\n",
        "scaler = StandardScaler()\n",
        "speech_features = scaler.fit_transform(speech_features)\n",
        "handwriting_features = scaler.fit_transform(handwriting_features)\n",
        "\n",
        "# 3️⃣ **Concatenate Features**\n",
        "combined_features = np.hstack((speech_features, handwriting_features))\n",
        "\n",
        "# 4️⃣ **Train Test Split**\n",
        "X_train, X_test, y_train, y_test = train_test_split(combined_features, speech_labels, test_size=0.2, random_state=42)\n",
        "\n",
        "# 5️⃣ **Train Random Forest Model**\n",
        "rf = RandomForestClassifier(n_estimators=100, random_state=42)\n",
        "rf.fit(X_train, y_train)\n",
        "\n",
        "# 6️⃣ **Evaluate Model**\n",
        "y_pred = rf.predict(X_test)\n",
        "accuracy = accuracy_score(y_test, y_pred)\n",
        "\n",
        "print(f\"✅ Model Accuracy: {accuracy:.2f}\")\n",
        "print(classification_report(y_test, y_pred))\n"
      ]
    },
    {
      "cell_type": "code",
      "execution_count": 6,
      "metadata": {
        "colab": {
          "base_uri": "https://localhost:8080/"
        },
        "id": "mAL1W26oL87n",
        "outputId": "67c6c2ce-190b-4dbe-c9de-7dede603ac80"
      },
      "outputs": [
        {
          "name": "stdout",
          "output_type": "stream",
          "text": [
            "Model and Scaler saved as .pkl files.\n"
          ]
        }
      ],
      "source": [
        "import joblib\n",
        "# Save the trained Random Forest model and scaler\n",
        "joblib.dump(rf, 'random_forest_model.pkl')  # Save the trained model\n",
        "joblib.dump(scaler, 'scaler.pkl')  # Save the scaler\n",
        "\n",
        "print(\"Model and Scaler saved as .pkl files.\")"
      ]
    }
  ],
  "metadata": {
    "colab": {
      "provenance": []
    },
    "kernelspec": {
      "display_name": "Python 3",
      "name": "python3"
    },
    "language_info": {
      "name": "python"
    }
  },
  "nbformat": 4,
  "nbformat_minor": 0
}
